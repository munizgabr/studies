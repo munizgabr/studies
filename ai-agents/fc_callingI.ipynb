{
 "cells": [
  {
   "cell_type": "code",
   "execution_count": 2,
   "metadata": {},
   "outputs": [],
   "source": [
    "import json\n",
    "from dotenv import load_dotenv\n",
    "import os\n",
    "import openai\n",
    "\n",
    "load_dotenv()  # Carrega variáveis do .env\n",
    "\n",
    "openai.api_key = os.getenv(\"OPENAI_API_KEY\")"
   ]
  },
  {
   "cell_type": "code",
   "execution_count": 7,
   "metadata": {},
   "outputs": [],
   "source": [
    "def hello(hour):\n",
    "    if 5<= 5 <= 12:\n",
    "        return json.dumps({\"saudacao\": \"Bom dia!\"})\n",
    "    elif 12 <= hour < 18:\n",
    "        return json.dumps({\"saudacao\": \"Boa tarde!\"})\n",
    "    elif 18 <= hour < 22:\n",
    "        return json.dumps({\"saudacao\": \"Boa noite!\"})\n",
    "    else:\n",
    "        return json.dumps({\"saudacao\": \"Boa madruga!\"})"
   ]
  },
  {
   "cell_type": "code",
   "execution_count": 5,
   "metadata": {},
   "outputs": [],
   "source": [
    "tools =[\n",
    "    {\n",
    "        \"type\":\"function\",\n",
    "        \"function\": {\n",
    "            \"name\":\"hello\",\n",
    "            \"description\":\"Retorna uma saudacao de acordo com a hora do dia\",\n",
    "            \"parameters\": {\n",
    "                \"type\":\"object\",\n",
    "                \"properties\":{\n",
    "                    \"hour\":{\n",
    "                        \"type\":\"number\",\n",
    "                        \"description\":\"Hora do dia em formato 24h\"   \n",
    "                    }\n",
    "                },\n",
    "                \"required\":[\"hora\"]\n",
    "            }\n",
    "        }\n",
    "    }\n",
    "]"
   ]
  },
  {
   "cell_type": "code",
   "execution_count": 8,
   "metadata": {},
   "outputs": [],
   "source": [
    "available_function = {\n",
    "    \"hello\" : hello\n",
    "}"
   ]
  },
  {
   "cell_type": "code",
   "execution_count": 9,
   "metadata": {},
   "outputs": [],
   "source": [
    "message = [{\"role\": \"user\", \"content\": \"Qual saudação o modelo irá me dar se for 10h32?\"}]"
   ]
  },
  {
   "cell_type": "code",
   "execution_count": 11,
   "metadata": {},
   "outputs": [],
   "source": [
    "response = openai.chat.completions.create(\n",
    "    model=\"gpt-3.5-turbo\",\n",
    "    messages=message,\n",
    "    tools = tools,\n",
    "    tool_choice = \"auto\"\n",
    "    )"
   ]
  },
  {
   "cell_type": "code",
   "execution_count": 12,
   "metadata": {},
   "outputs": [],
   "source": [
    "conversation = response.choices[0].message"
   ]
  },
  {
   "cell_type": "code",
   "execution_count": 13,
   "metadata": {},
   "outputs": [
    {
     "data": {
      "text/plain": [
       "ChatCompletionMessage(content=None, refusal=None, role='assistant', annotations=[], audio=None, function_call=None, tool_calls=[ChatCompletionMessageToolCall(id='call_P9mqvZDRAnjOn6uNfXiMaX03', function=Function(arguments='{\"hour\":10}', name='hello'), type='function')])"
      ]
     },
     "execution_count": 13,
     "metadata": {},
     "output_type": "execute_result"
    }
   ],
   "source": [
    "conversation"
   ]
  },
  {
   "cell_type": "code",
   "execution_count": null,
   "metadata": {},
   "outputs": [],
   "source": [
    "tool_calls = conversation.tool_calls\n",
    "tool_calls"
   ]
  }
 ],
 "metadata": {
  "kernelspec": {
   "display_name": "Python 3",
   "language": "python",
   "name": "python3"
  },
  "language_info": {
   "codemirror_mode": {
    "name": "ipython",
    "version": 3
   },
   "file_extension": ".py",
   "mimetype": "text/x-python",
   "name": "python",
   "nbconvert_exporter": "python",
   "pygments_lexer": "ipython3",
   "version": "3.13.2"
  }
 },
 "nbformat": 4,
 "nbformat_minor": 2
}
